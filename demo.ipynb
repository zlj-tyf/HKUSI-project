{
 "cells": [
  {
   "cell_type": "markdown",
   "metadata": {},
   "source": [
    "# Here's a demo of our project\n",
    "\n",
    "With no machine learning integration"
   ]
  },
  {
   "cell_type": "code",
   "execution_count": null,
   "metadata": {},
   "outputs": [],
   "source": [
    "import random\n",
    "\n",
    "# Define different types of animals\n",
    "animals = {\n",
    "    'Endangered Species': ['Tiger', 'Panda', 'Rhino'],\n",
    "    'Pests': ['Mosquito', 'Rat', 'Cockroach'],\n",
    "    'Other Wildlife': ['Deer', 'Fox', 'Rabbit']\n",
    "}\n"
   ]
  },
  {
   "cell_type": "markdown",
   "metadata": {},
   "source": [
    "## Data input (spec. animal movement patterns)"
   ]
  },
  {
   "cell_type": "code",
   "execution_count": null,
   "metadata": {},
   "outputs": [],
   "source": [
    "# Simulate animal movements\n",
    "def simulate_animal_movement(animal_type):\n",
    "    movements = {}\n",
    "    for animal in animals[animal_type]:\n",
    "        movements[animal] = (random.randint(0, 100), random.randint(0, 100))  # Random (x, y) to simulate real-life input\n",
    "    return movements\n",
    "\n",
    "# Collect data on animal movements for each type\n",
    "endangered_species_movements = simulate_animal_movement('Endangered Species')\n",
    "pests_movements = simulate_animal_movement('Pests')\n",
    "other_wildlife_movements = simulate_animal_movement('Other Wildlife')"
   ]
  },
  {
   "cell_type": "markdown",
   "metadata": {},
   "source": [
    "## AI analysis \n",
    "\n",
    "For each of the behavior $T$, we introduce a tuple $(x,y)$ to identify it.\n",
    "\n",
    "### Endangered species monitoring"
   ]
  },
  {
   "cell_type": "code",
   "execution_count": null,
   "metadata": {},
   "outputs": [],
   "source": [
    "def simulate_animal_movement(animal_type, num_steps=10):\n",
    "    movements = {}\n",
    "    for animal in animals[animal_type]:\n",
    "        positions = [(random.randint(0, 100), random.randint(0, 100)) for _ in range(num_steps)]  # Random (x, y) positions\n",
    "        movements[animal] = positions\n",
    "    return movements\n",
    "\n",
    "endangered_species_movements = simulate_animal_movement('Endangered Species', num_steps=20)\n",
    "\n",
    "def analyze_endangered_species_movement(endangered_species_movements):\n",
    "    appearances = {}\n",
    "    locations = {}\n",
    "    \n",
    "    for animal, positions in endangered_species_movements.items():\n",
    "        appearances[animal] = len(positions)\n",
    "        \n",
    "        x_positions = [pos[0] for pos in positions]\n",
    "        y_positions = [pos[1] for pos in positions]\n",
    "        avg_x = sum(x_positions) / len(x_positions)\n",
    "        avg_y = sum(y_positions) / len(y_positions)\n",
    "        \n",
    "        locations[animal] = (avg_x, avg_y)\n",
    "    \n",
    "    return appearances, locations\n",
    "\n",
    "\n",
    "endangered_species_appearances, endangered_species_locations = analyze_endangered_species_movement(endangered_species_movements)\n",
    "\n",
    "print(\"Endangered Species Monitoring Results:\")\n",
    "print(\"Number of Appearances:\")\n",
    "for animal, appearances in endangered_species_appearances.items():\n",
    "    print(f\"{animal}: {appearances} times\")\n",
    "\n",
    "print(\"\\nAverage Locations:\")\n",
    "for animal, location in endangered_species_locations.items():\n",
    "    print(f\"{animal}: {location}\")\n"
   ]
  },
  {
   "cell_type": "markdown",
   "metadata": {},
   "source": [
    "### Pest control\n",
    "\n",
    "To recognize pests, we use openCV and PyTorch to introduce AI intervention."
   ]
  },
  {
   "cell_type": "code",
   "execution_count": null,
   "metadata": {},
   "outputs": [],
   "source": [
    "import pest_control\n",
    "\n",
    "count_pests=[]\n",
    "\n",
    "def analyze_pests_movement(pests_movements):\n",
    "    for i in pests_movements:\n",
    "        count_pests[pest_control.recognize_pests(i)] += 1\n"
   ]
  },
  {
   "cell_type": "markdown",
   "metadata": {},
   "source": [
    "### Energy flow monitoring\n",
    "\n",
    "To make sure the living space is healthy, we introduce the following method to analysis the energy flow among each species."
   ]
  },
  {
   "cell_type": "code",
   "execution_count": null,
   "metadata": {},
   "outputs": [],
   "source": [
    "def calculate_energy_flow(data_list):\n",
    "    total_energy = sum(data_list)\n",
    "    energy_flow = []\n",
    "\n",
    "    for i in range(len(data_list) - 1):\n",
    "        consumer_energy = data_list[i]\n",
    "        customer_energy = data_list[i + 1]\n",
    "\n",
    "        energy_flow.append((consumer_energy, customer_energy))\n",
    "    \n",
    "    # Display energy flow\n",
    "    print(\"Energy Flow:\")\n",
    "    for consumer, customer in energy_flow:\n",
    "        flow_percentage = (customer / consumer) * 100\n",
    "        print(f\"{consumer} units of energy flow to the customer, accounting for {flow_percentage:.2f}% of the consumer's energy.\")\n",
    "\n",
    "    # Total energy flow\n",
    "    total_flow_percentage = (total_energy - data_list[-1]) / total_energy * 100\n",
    "    print(f\"\\nTotal energy flow: {total_flow_percentage:.2f}% of the total energy.\")\n"
   ]
  },
  {
   "cell_type": "markdown",
   "metadata": {},
   "source": [
    "Achnoledgements : Code contains AI generation"
   ]
  }
 ],
 "metadata": {
  "language_info": {
   "name": "python"
  }
 },
 "nbformat": 4,
 "nbformat_minor": 2
}
